{
 "cells": [
  {
   "cell_type": "code",
   "execution_count": 8,
   "id": "d0f556b1-223e-4f41-8b29-bb5ad597cd7f",
   "metadata": {},
   "outputs": [],
   "source": [
    "import os \n",
    "import google.generativeai as genai \n",
    "from dotenv import load_dotenv\n",
    "from langchain_google_genai import ChatGoogleGenerativeAI\n",
    "from langchain.schema.output_parser import StrOutputParser\n",
    "from langchain.prompts import ChatPromptTemplate\n",
    "\n",
    "load_dotenv()\n",
    "\n",
    "\n",
    "os.environ['GOOGLE_API_KEY']=os.getenv('GOOGLE_API_KEY')\n",
    "genai.configure(api_key=os.environ['GOOGLE_API_KEY'])"
   ]
  },
  {
   "cell_type": "code",
   "execution_count": 9,
   "id": "0d99e7e4-aaeb-475c-b301-b28365cc544f",
   "metadata": {},
   "outputs": [
    {
     "name": "stdout",
     "output_type": "stream",
     "text": [
      "In a realm of code, where logic flows,\n",
      "LangChain emerges, a muse that glows.\n",
      "A language born, from minds profound,\n",
      "With power to shape the world around.\n",
      "\n",
      "With prowess in its core, it weaves its might,\n",
      "Unveiling insights, clear as daylight.\n",
      "From data's depths, it draws its gleam,\n",
      "Unlocking secrets, a vibrant dream.\n",
      "\n",
      "Its syntax, elegant, a symphony of grace,\n",
      "Guiding thoughts with ease, leaving no trace.\n",
      "Each line a verse, a rhythm to behold,\n",
      "As LangChain's story, a saga to be told.\n",
      "\n",
      "Like a bard of old, it sings its refrain,\n",
      "Transforming data into wisdom's gain.\n",
      "Predicting trends, with accuracy profound,\n",
      "Empowering decisions, breaking every bound.\n",
      "\n",
      "In fields diverse, its impact is known,\n",
      "From finance to healthcare, its talents are shown.\n",
      "Optimizing processes, with efficiency's might,\n",
      "LangChain shines, a beacon in the night.\n",
      "\n",
      "But beyond its prowess, a heart it does hold,\n",
      "A language of empathy, stories to be told.\n",
      "It bridges the gap, between human and machine,\n",
      "Enabling conversations, where understanding is seen.\n",
      "\n",
      "So let us sing the ballad of LangChain,\n",
      "A language that inspires, a tool that empowers.\n",
      "May its verses echo, in every corner of time,\n",
      "A testament to innovation, a legacy sublime.\n"
     ]
    }
   ],
   "source": [
    "llm = ChatGoogleGenerativeAI(model=\"gemini-pro\")\n",
    "result = llm.invoke(\"Write a ballad about LangChain\")\n",
    "print(result.content)"
   ]
  },
  {
   "cell_type": "code",
   "execution_count": 10,
   "id": "7565419e-2c58-4126-a02c-16e156b372d5",
   "metadata": {},
   "outputs": [
    {
     "name": "stderr",
     "output_type": "stream",
     "text": [
      "/home/varun/miniconda3/envs/graph/lib/python3.10/site-packages/langchain_core/_api/deprecation.py:119: LangChainDeprecationWarning: The method `BaseChatModel.__call__` was deprecated in langchain-core 0.1.7 and will be removed in 0.3.0. Use invoke instead.\n",
      "  warn_deprecated(\n",
      "/home/varun/miniconda3/envs/graph/lib/python3.10/site-packages/langchain_google_genai/chat_models.py:344: UserWarning: Convert_system_message_to_human will be deprecated!\n",
      "  warnings.warn(\"Convert_system_message_to_human will be deprecated!\")\n"
     ]
    },
    {
     "data": {
      "text/plain": [
       "AIMessage(content='Yes', response_metadata={'prompt_feedback': {'block_reason': 0, 'safety_ratings': []}, 'finish_reason': 'STOP', 'safety_ratings': [{'category': 'HARM_CATEGORY_SEXUALLY_EXPLICIT', 'probability': 'NEGLIGIBLE', 'blocked': False}, {'category': 'HARM_CATEGORY_HATE_SPEECH', 'probability': 'NEGLIGIBLE', 'blocked': False}, {'category': 'HARM_CATEGORY_HARASSMENT', 'probability': 'NEGLIGIBLE', 'blocked': False}, {'category': 'HARM_CATEGORY_DANGEROUS_CONTENT', 'probability': 'NEGLIGIBLE', 'blocked': False}]}, id='run-ab4ec470-790c-40a4-9d66-d5e2c4d88a19-0')"
      ]
     },
     "execution_count": 10,
     "metadata": {},
     "output_type": "execute_result"
    }
   ],
   "source": [
    "from langchain_core.messages import HumanMessage, SystemMessage\n",
    "\n",
    "model = ChatGoogleGenerativeAI(model=\"gemini-pro\", convert_system_message_to_human=True)\n",
    "model(\n",
    "    [\n",
    "        SystemMessage(content=\"Answer only yes or no.\"),\n",
    "        HumanMessage(content=\"Is apple a fruit?\"),\n",
    "    ]\n",
    ")"
   ]
  },
  {
   "cell_type": "code",
   "execution_count": 11,
   "id": "b0fcfd18-ad57-45a2-a2e3-acecec2b5e6e",
   "metadata": {},
   "outputs": [
    {
     "name": "stdout",
     "output_type": "stream",
     "text": [
      "There once was an LLM so grand,\n",
      "It could write poems at your\n",
      "---\n",
      " command.\n",
      "With words that flowed,\n",
      "Like a river's road,\n",
      "It painted pictures, verse so planned.\n",
      "---\n"
     ]
    }
   ],
   "source": [
    "for chunk in llm.stream(\"Write a limerick about LLMs.\"):\n",
    "    print(chunk.content)\n",
    "    print(\"---\")"
   ]
  },
  {
   "cell_type": "code",
   "execution_count": 12,
   "id": "40988e47-2df5-4e49-bb40-8f774f31f8ec",
   "metadata": {},
   "outputs": [],
   "source": [
    "model = ChatGoogleGenerativeAI(model=\"gemini-1.5-flash\", convert_system_message_to_human=True)\n"
   ]
  },
  {
   "cell_type": "code",
   "execution_count": 13,
   "id": "a7db29ca-6837-4271-9d19-d5481c5c0ecb",
   "metadata": {},
   "outputs": [
    {
     "name": "stderr",
     "output_type": "stream",
     "text": [
      "/home/varun/miniconda3/envs/graph/lib/python3.10/site-packages/langchain_google_genai/chat_models.py:344: UserWarning: Convert_system_message_to_human will be deprecated!\n",
      "  warnings.warn(\"Convert_system_message_to_human will be deprecated!\")\n"
     ]
    },
    {
     "data": {
      "text/plain": [
       "AIMessage(content='Yes. \\n', response_metadata={'prompt_feedback': {'block_reason': 0, 'safety_ratings': []}, 'finish_reason': 'STOP', 'safety_ratings': [{'category': 'HARM_CATEGORY_SEXUALLY_EXPLICIT', 'probability': 'NEGLIGIBLE', 'blocked': False}, {'category': 'HARM_CATEGORY_HATE_SPEECH', 'probability': 'NEGLIGIBLE', 'blocked': False}, {'category': 'HARM_CATEGORY_HARASSMENT', 'probability': 'NEGLIGIBLE', 'blocked': False}, {'category': 'HARM_CATEGORY_DANGEROUS_CONTENT', 'probability': 'NEGLIGIBLE', 'blocked': False}]}, id='run-01405f77-6086-4484-b876-03ea1a9e30c6-0')"
      ]
     },
     "execution_count": 13,
     "metadata": {},
     "output_type": "execute_result"
    }
   ],
   "source": [
    "model(\n",
    "    [\n",
    "        SystemMessage(content=\"Answer only yes or no.\"),\n",
    "        HumanMessage(content=\"Is apple a fruit?\"),\n",
    "    ]\n",
    ")"
   ]
  },
  {
   "cell_type": "code",
   "execution_count": 14,
   "id": "25a32c5e-d085-4485-af29-149f0fab2c8f",
   "metadata": {},
   "outputs": [
    {
     "name": "stdout",
     "output_type": "stream",
     "text": [
      "There once was an LLM so smart,\n",
      "It could write poems and give\n",
      "---\n",
      " you a start.\n",
      "With its vast knowledge and wit,\n",
      "It would never get a writer's fit,\n",
      "And its limericks were a work\n",
      "---\n",
      " of art.\n",
      "---\n"
     ]
    }
   ],
   "source": [
    "for chunk in llm.stream(\"Write a limerick about LLMs.\"):\n",
    "    print(chunk.content)\n",
    "    print(\"---\")"
   ]
  },
  {
   "cell_type": "code",
   "execution_count": 16,
   "id": "25c14ee2-d597-45b4-a01e-5623ffc4b85c",
   "metadata": {},
   "outputs": [],
   "source": [
    "result = llm.invoke('write a story about magic beans')"
   ]
  },
  {
   "cell_type": "code",
   "execution_count": 17,
   "id": "a653a6f8-c04b-4445-a340-c743bb79dc31",
   "metadata": {},
   "outputs": [
    {
     "name": "stdout",
     "output_type": "stream",
     "text": [
      "In the quaint little town of Willow Creek, nestled amidst rolling hills and whispering willows, there lived a young boy named Jack. Jack was an adventurous soul, always eager to embark on new and exciting quests.\n",
      "\n",
      "One fateful day, as Jack wandered through the town square, he stumbled upon a peculiar old woman. Her eyes twinkled with an otherworldly wisdom, and her hands were gnarled with age. She held out a small, unassuming pouch towards him.\n",
      "\n",
      "\"Young lad,\" the woman whispered, \"within this pouch lies a treasure that will change your life forever. Magic beans, they are called. Plant them, and they will grow to heights you cannot imagine.\"\n",
      "\n",
      "Intrigued, Jack reached out and took the pouch. He thanked the old woman and made his way home, his heart pounding with anticipation.\n",
      "\n",
      "That evening, Jack carefully planted the beans in a small pot filled with rich soil. As he watered them, he couldn't help but feel a surge of excitement. He had always dreamed of adventure, and these beans seemed to hold the key to an extraordinary journey.\n",
      "\n",
      "The next morning, Jack awoke to a sight that left him speechless. The beans had sprouted overnight, their vines reaching towards the ceiling with astonishing speed. Jack marveled at their growth, knowing that something truly remarkable was about to unfold.\n",
      "\n",
      "As the days passed, the vines continued to climb higher and higher, their leaves shimmering with an ethereal glow. Jack watched in amazement as they wove themselves into a magnificent staircase, leading upwards into the clouds.\n",
      "\n",
      "Unable to resist the allure of the unknown, Jack gathered his courage and began to ascend the beanstalk. He climbed for hours, his legs burning and his breath coming in ragged gasps. But he pressed on, driven by an unyielding determination.\n",
      "\n",
      "At the top of the beanstalk, Jack found himself in a wondrous land. Giant castles towered in the distance, their spires piercing the heavens. Strange and exotic creatures roamed the streets, their eyes filled with both wonder and amusement.\n",
      "\n",
      "Jack wandered through this magical realm, his senses overwhelmed by the sights and sounds. He encountered a talking cow, a singing harp, and a mischievous giant who demanded a golden egg in exchange for safe passage.\n",
      "\n",
      "Through his wit and courage, Jack overcame every obstacle that came his way. He retrieved the golden egg, defeated the giant, and returned to the base of the beanstalk a hero.\n",
      "\n",
      "As he descended the vine, the magic beans began to wither and die. The staircase crumbled into dust, leaving only a faint memory of the extraordinary journey Jack had undertaken.\n",
      "\n",
      "But the adventure had changed him forever. He had learned the value of courage, determination, and the power of belief. And so, young Jack returned to Willow Creek, his heart filled with gratitude for the magic beans that had led him to his destiny.\n"
     ]
    }
   ],
   "source": [
    "print(result.content)"
   ]
  },
  {
   "cell_type": "code",
   "execution_count": null,
   "id": "56ded244-c374-4e5b-bac0-7c3a864767ab",
   "metadata": {},
   "outputs": [],
   "source": []
  }
 ],
 "metadata": {
  "kernelspec": {
   "display_name": "graph",
   "language": "python",
   "name": "graph"
  },
  "language_info": {
   "codemirror_mode": {
    "name": "ipython",
    "version": 3
   },
   "file_extension": ".py",
   "mimetype": "text/x-python",
   "name": "python",
   "nbconvert_exporter": "python",
   "pygments_lexer": "ipython3",
   "version": "3.10.0"
  }
 },
 "nbformat": 4,
 "nbformat_minor": 5
}
