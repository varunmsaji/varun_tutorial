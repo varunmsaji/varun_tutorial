{
 "cells": [
  {
   "cell_type": "code",
   "execution_count": 66,
   "id": "2f29d2de-8a3c-4871-b704-4bbdb923ced9",
   "metadata": {},
   "outputs": [],
   "source": [
    "from dotenv import load_dotenv\n",
    "import os"
   ]
  },
  {
   "cell_type": "code",
   "execution_count": 67,
   "id": "837ffd6b-3c71-448c-89cc-b59104da0234",
   "metadata": {},
   "outputs": [
    {
     "data": {
      "text/plain": [
       "True"
      ]
     },
     "execution_count": 67,
     "metadata": {},
     "output_type": "execute_result"
    }
   ],
   "source": [
    "load_dotenv('/media/varun/Data/data science/main_files/.env')"
   ]
  },
  {
   "cell_type": "code",
   "execution_count": 68,
   "id": "c8f649b3-e1ce-48a9-8e2e-3cc7a4a4548b",
   "metadata": {},
   "outputs": [
    {
     "name": "stdout",
     "output_type": "stream",
     "text": [
      "**Verse 1**\n",
      "In a realm of code, where algorithms soar,\n",
      "There lived a model, LangChain, a linguistic lore.\n",
      "With layers of learning, it excelled with grace,\n",
      "A master of language, in every time and space.\n",
      "\n",
      "**Chorus**\n",
      "Oh, LangChain, LangChain, a marvel so grand,\n",
      "Unveiling the secrets of language, hand in hand.\n",
      "From text to speech, and back again,\n",
      "A bridge between worlds, a linguistic pen.\n",
      "\n",
      "**Verse 2**\n",
      "Through vast datasets, it ventured with might,\n",
      "Extracting patterns, day and night.\n",
      "Syntax and semantics, it understood,\n",
      "A virtuoso of language, for all to applaud.\n",
      "\n",
      "**Chorus**\n",
      "Oh, LangChain, LangChain, a marvel so grand,\n",
      "Unveiling the secrets of language, hand in hand.\n",
      "From text to speech, and back again,\n",
      "A bridge between worlds, a linguistic pen.\n",
      "\n",
      "**Bridge**\n",
      "In dialogue systems, it shone with delight,\n",
      "Generating responses, both day and night.\n",
      "Understanding intent, predicting the best,\n",
      "A conversational companion, putting minds at rest.\n",
      "\n",
      "**Verse 3**\n",
      "Machine translation, a task it could tame,\n",
      "Breaking language barriers, without any shame.\n",
      "From English to Spanish, French to Chinese,\n",
      "It bridged cultures, with linguistic ease.\n",
      "\n",
      "**Chorus**\n",
      "Oh, LangChain, LangChain, a marvel so grand,\n",
      "Unveiling the secrets of language, hand in hand.\n",
      "From text to speech, and back again,\n",
      "A bridge between worlds, a linguistic pen.\n",
      "\n",
      "**Outro**\n",
      "In the tapestry of language, it weaves its thread,\n",
      "A pioneer of AI, leaving minds well-fed.\n",
      "LangChain, the ballad, we sing with pride,\n",
      "A model of excellence, forever to reside.\n"
     ]
    }
   ],
   "source": [
    "import os \n",
    "import google.generativeai as genai \n",
    "from dotenv import load_dotenv\n",
    "from langchain_google_genai import ChatGoogleGenerativeAI\n",
    "from langchain.schema.output_parser import StrOutputParser\n",
    "from langchain.prompts import ChatPromptTemplate\n",
    "\n",
    "#set the environment variables\n",
    "os.environ['GOOGLE_API_KEY']=os.getenv('GOOGLE_API_KEY')\n",
    "genai.configure(api_key=os.environ['GOOGLE_API_KEY'])\n",
    "\n",
    "#load the model \n",
    "model=genai.GenerativeModel('gemini-pro')\n",
    "llm = ChatGoogleGenerativeAI(model=\"gemini-pro\")\n",
    "#call the model\n",
    "result = llm.invoke(\"Write a ballad about LangChain\")\n",
    "print(result.content)"
   ]
  },
  {
   "cell_type": "code",
   "execution_count": 69,
   "id": "ca74db4c-23b2-4729-928a-9d1632ff1b58",
   "metadata": {},
   "outputs": [],
   "source": [
    "from langchain_groq import ChatGroq\n",
    "os.environ['GROQ_API_KEY']=os.getenv('GROQ_API_KEY')\n",
    "\n",
    "#load the model\n",
    "model_groq = ChatGroq(model='mixtral-8x7b-32768')\n",
    "\n",
    "system = \"You are a helpful assistant.\"\n",
    "human = \"{text}\"\n",
    "prompt = ChatPromptTemplate.from_messages([(\"system\", system), (\"human\", human)])\n",
    "\n",
    "chain = prompt | model_groq\n",
    "# result =chain.invoke({\"text\": \"Explain the importance of low latency LLMs.\"})\n",
    "# print(result.content)"
   ]
  },
  {
   "cell_type": "code",
   "execution_count": 70,
   "id": "849ca281-126c-43a3-a6cd-def38b95899c",
   "metadata": {},
   "outputs": [
    {
     "name": "stdout",
     "output_type": "stream",
     "text": [
      "Error processing PDF: object of type 'method' has no len()\n"
     ]
    }
   ],
   "source": [
    "import pymupdf\n",
    "\n",
    "# Replace 'path/to/resume.pdf' with your actual file path\n",
    "resume_path = \"/media/varun/Data/resume/res.pdf\"\n",
    "\n",
    "try:\n",
    "  # Open the PDF document\n",
    "  doc = pymupdf.open(resume_path)\n",
    "\n",
    "  # Extract text content from all pages\n",
    "  text = \"\"\n",
    "  for page_num in range(len(doc.pages)):  # Use len() on doc.pages list\n",
    "    page = doc.pages[page_num]  # Access page using index\n",
    "\n",
    "    text += page.get_text()  # Extract text as UTF-8 encoded string\n",
    "\n",
    "  # Print the extracted text\n",
    "  print(text)\n",
    "\n",
    "except Exception as e:  # Catch any exception (more generic)\n",
    "  print(f\"Error processing PDF: {e}\")\n",
    "\n",
    "finally:\n",
    "  # Close the document (optional, garbage collection might handle it)\n",
    "  doc.close()\n"
   ]
  },
  {
   "cell_type": "code",
   "execution_count": 71,
   "id": "7b062aa6-4323-4abc-ae5f-a5c00e39d660",
   "metadata": {},
   "outputs": [],
   "source": [
    "import fitz  # PyMuPDF\n",
    "from nltk.tokenize import word_tokenize\n",
    "import re\n",
    "\n",
    "def extract_text_from_pdf(pdf_path):\n",
    "    doc = fitz.open(pdf_path)\n",
    "    text = \"\"\n",
    "    for page_num in range(len(doc)):\n",
    "        page = doc.load_page(page_num)\n",
    "        text += page.get_text()\n",
    "    return text\n"
   ]
  },
  {
   "cell_type": "code",
   "execution_count": 72,
   "id": "d6699c40-34c7-40a6-b021-3d7fd0ebaf38",
   "metadata": {},
   "outputs": [],
   "source": [
    "pdf_path = '/media/varun/Data/resume/res.pdf'\n",
    "\n",
    "text = extract_text_from_pdf(pdf_path)"
   ]
  },
  {
   "cell_type": "code",
   "execution_count": 73,
   "id": "7fae3288-be33-4bcb-ab6b-7bf35ac0c093",
   "metadata": {},
   "outputs": [
    {
     "data": {
      "text/plain": [
       "'Varun M S \\nASPIRING DATA ANALYST \\nVarunmsaji01@gmail.com \\n(+91) 7736577008 \\nErnakulam \\nKerala, India \\nSUMMARY \\nEnergetic and organized aspiring data analyst seeking to leverage skills in a competitive environment while being \\nresourceful to guide business decisions and work for the growth of the organisation \\nSKILLS \\n• \\nAnalytics: Qualitative and quantitative data analysis, Data cleaning, EDA, identifying patterns and trends \\n• \\nProgramming: Python(Pandas, Scikit-Learn), SQL, \\n• \\nData modeling: Regression, Classification, Clustering \\n• \\nData Collection: Web scraping, Image scraping \\n• \\nData Visualization: Power BI, Excel, Matplotlib, Seaborn \\n• \\nDeep Learning:ANN,CNN,OpenCv,Media pipe \\n• \\nTeamwork, problem-solving, strong communication, attention to detail, adept at learning new skills \\n \\nEDUCATION \\nB.TECH  COMPUTER SCIENCE \\nSree Narayana Guru Institute of Science and Technology \\n \\nCompleted with 60 percent marks \\n \\nBIG DATA ANALYTICS AND DATA SCIENCE \\nLUMINAR TECHNOLAB \\nCurrently pursuing a comprehensive course on big data analysis and data science with emphasis on \\nmachine learning \\nEXPERIENCE \\nADMINISTRATIVE ASSISTANT \\nCOCHIN UNIVERSITY OF SCIENCE AND TECHNOLOGY \\nAUGUST 2021-DECEMBER 2022 \\n• \\nAssist in certificate preparation \\n• \\nAssist in compiling and publishing of results \\n• \\nAssist in shortlisting candidates  \\n• \\nAssist in conducting interviews \\nPROJECTS \\n• \\nCredit card fraud detection  \\n• \\nFake news detection  \\n• \\nSalary prediction \\n• \\nSpam classifier \\n• \\nPlant disease prediction – using CNN \\n• \\nFruit quality prediction-using CNN \\n• \\nVirtual painter -using OpenCV and media pipe \\n \\n'"
      ]
     },
     "execution_count": 73,
     "metadata": {},
     "output_type": "execute_result"
    }
   ],
   "source": [
    "text"
   ]
  },
  {
   "cell_type": "markdown",
   "id": "53d107c0-f625-4215-9d5e-98cabfae5f96",
   "metadata": {},
   "source": [
    "pdf document handling"
   ]
  },
  {
   "cell_type": "code",
   "execution_count": 74,
   "id": "15ed12c6-ab71-4269-8d34-bc68bdc33264",
   "metadata": {},
   "outputs": [],
   "source": [
    "path = '/home/varun/Downloads/Telegram Desktop/res.pdf'"
   ]
  },
  {
   "cell_type": "code",
   "execution_count": 75,
   "id": "815f62f6-4b8a-4cea-9817-403fdf6d62ca",
   "metadata": {},
   "outputs": [],
   "source": [
    "from pypdf import PdfReader\n",
    "reader =PdfReader(path)"
   ]
  },
  {
   "cell_type": "code",
   "execution_count": 76,
   "id": "57005db2-2336-4d93-8e9e-909d2bf2ede4",
   "metadata": {},
   "outputs": [
    {
     "data": {
      "text/plain": [
       "1"
      ]
     },
     "execution_count": 76,
     "metadata": {},
     "output_type": "execute_result"
    }
   ],
   "source": [
    "len(reader.pages)"
   ]
  },
  {
   "cell_type": "code",
   "execution_count": 77,
   "id": "3e318e43-426e-4b7e-8d50-6c1522b5c0d2",
   "metadata": {},
   "outputs": [
    {
     "data": {
      "application/pdf": "[encoded data removed]",
      "text/plain": [
       "<pypdf._reader.PdfReader at 0x780f45b90040>"
      ]
     },
     "execution_count": 77,
     "metadata": {},
     "output_type": "execute_result"
    }
   ],
   "source": [
    "reader"
   ]
  },
  {
   "cell_type": "code",
   "execution_count": 78,
   "id": "c7d652f1-c5af-44bd-becd-e10b68d990f1",
   "metadata": {},
   "outputs": [],
   "source": [
    "page = reader.pages[0]"
   ]
  },
  {
   "cell_type": "code",
   "execution_count": 79,
   "id": "5419b472-384b-4f92-a8c5-4b8d126da49e",
   "metadata": {},
   "outputs": [],
   "source": [
    "text = page.extract_text()"
   ]
  },
  {
   "cell_type": "code",
   "execution_count": 80,
   "id": "dd4a27e6-de19-4d7a-8dda-48f3414ad395",
   "metadata": {},
   "outputs": [
    {
     "data": {
      "text/plain": [
       "'+91 7736577008\\nvarunmsaji01@gmail.com\\nErnakulamC O N T A C TP R O F I L E\\nS K I L L S\\nE D U C A T I O NPython: pandas,matplotlib,seaborn,\\nnumy\\nMachinelearning:Regression,\\nclassification,clustering\\nDeep Learning:ANN,CNN,\\nRNN,LSTM, Tensorflow,keras,\\n,NLP,openCV, Amazon sage maker\\nStreamlit,flask,langchain,rasa\\nSQL,Power BI,Excel,\\nWord,Powerpoint\\nB.Tech Computer Science\\nSNGIST\\nCompleted B.Tech computer\\nscience with 60 percentage\\nmarks\\nBig data analytics and data\\nscience \\nLuminar technolab\\nCompleted a comprehensive\\ncourse on data analysis\\n,machine learning,deep learning\\nin pythonMotivated and detail-oriented aspiring data analyst with a passion\\nfor transforming raw data into valuable insights. Eager to apply a\\ncombination of analytical skills in a dynamic and competitive\\nenvironment. Adept at leveraging data-driven strategies to guide\\ninformed business decisions, I am committed to contributing to\\nthe growth and success of the organization.\\nL A N G U A G E S\\nMalayalam\\nEnglishV A R U N  M  S\\nASPIRING DATA\\nANALYST\\nP R O J E C T  W O R K S\\n     Fake news detection streamlit web app : \\n       Accept user input and classify it as fake or not,\\n       Used pandas and NLP to clean and process data ,logistic \\n       regression to classify data and streamlit to create interface\\n     Book recommendation flask app: \\n        Accept user input and display similar book,\\n        Used pandas,NLP,numpy to process dataset,used both colaborative\\n        and popularity based filtering technique, Flask and basic html \\n     Real time face recognition: \\n        Detect face using harcascade file in real time using webcam,\\n        Used OpenCV to load and process the webcam feed and KNN to \\n       recognize face \\n     Traffic sign classification streamlit app: \\n        Used CNN to identify and classify the images of traffic sign,\\n        Accept input from user and identify and display the sign\\n     Chat with PDF streamlit app:\\n        Accept pdf data from user and create a knowledge base,\\n        Uses openAI to interact with the knowledge base and answers \\n        user questions,used langchain and streamlit for interface\\n     PDF summarization streamlit app :\\n        Accept pdf from user and gives a summary using hugginface model \\n        and streamlit for interface\\n     Text to sql retreiveal streamlit app:\\n        Take user input and convert it into sql queries using google gemini\\n        API and retrieve and display data from database ,used streamlit for\\n        interface\\n      Article/Blog generation: \\n         Accept a topic from user and generate an article using Llamma2,\\n         also give an image representing the topic using Dall-e\\n         used streamlit for interface\\nW O R K  E X P E R I E N C E\\nADMINISTRATIVE ASSISTANT AT CUSAT\\n   Handling applicant data and processing them\\nAssist in shortlisting of candidates and conducting interviews\\nAssist in preparation of certificateshttps://www.linkedin.com/in/varun-\\nm-s-data-analyst/'"
      ]
     },
     "execution_count": 80,
     "metadata": {},
     "output_type": "execute_result"
    }
   ],
   "source": [
    "text"
   ]
  },
  {
   "cell_type": "code",
   "execution_count": 81,
   "id": "35910728-a7fe-41ab-b3fa-badd35cece2d",
   "metadata": {},
   "outputs": [
    {
     "name": "stdout",
     "output_type": "stream",
     "text": [
      "+91 7736577008\n",
      "varunmsaji01@gmail.com\n",
      "ErnakulamC O N T A C TP R O F I L E\n",
      "S K I L L S\n",
      "E D U C A T I O NPython: pandas,matplotlib,seaborn,\n",
      "numy\n",
      "Machinelearning:Regression,\n",
      "classification,clustering\n",
      "Deep Learning:ANN,CNN,\n",
      "RNN,LSTM, Tensorflow,keras,\n",
      ",NLP,openCV, Amazon sage maker\n",
      "Streamlit,flask,langchain,rasa\n",
      "SQL,Power BI,Excel,\n",
      "Word,Powerpoint\n",
      "B.Tech Computer Science\n",
      "SNGIST\n",
      "Completed B.Tech computer\n",
      "science with 60 percentage\n",
      "marks\n",
      "Big data analytics and data\n",
      "science \n",
      "Luminar technolab\n",
      "Completed a comprehensive\n",
      "course on data analysis\n",
      ",machine learning,deep learning\n",
      "in pythonMotivated and detail-oriented aspiring data analyst with a passion\n",
      "for transforming raw data into valuable insights. Eager to apply a\n",
      "combination of analytical skills in a dynamic and competitive\n",
      "environment. Adept at leveraging data-driven strategies to guide\n",
      "informed business decisions, I am committed to contributing to\n",
      "the growth and success of the organization.\n",
      "L A N G U A G E S\n",
      "Malayalam\n",
      "EnglishV A R U N  M  S\n",
      "ASPIRING DATA\n",
      "ANALYST\n",
      "P R O J E C T  W O R K S\n",
      "     Fake news detection streamlit web app : \n",
      "       Accept user input and classify it as fake or not,\n",
      "       Used pandas and NLP to clean and process data ,logistic \n",
      "       regression to classify data and streamlit to create interface\n",
      "     Book recommendation flask app: \n",
      "        Accept user input and display similar book,\n",
      "        Used pandas,NLP,numpy to process dataset,used both colaborative\n",
      "        and popularity based filtering technique, Flask and basic html \n",
      "     Real time face recognition: \n",
      "        Detect face using harcascade file in real time using webcam,\n",
      "        Used OpenCV to load and process the webcam feed and KNN to \n",
      "       recognize face \n",
      "     Traffic sign classification streamlit app: \n",
      "        Used CNN to identify and classify the images of traffic sign,\n",
      "        Accept input from user and identify and display the sign\n",
      "     Chat with PDF streamlit app:\n",
      "        Accept pdf data from user and create a knowledge base,\n",
      "        Uses openAI to interact with the knowledge base and answers \n",
      "        user questions,used langchain and streamlit for interface\n",
      "     PDF summarization streamlit app :\n",
      "        Accept pdf from user and gives a summary using hugginface model \n",
      "        and streamlit for interface\n",
      "     Text to sql retreiveal streamlit app:\n",
      "        Take user input and convert it into sql queries using google gemini\n",
      "        API and retrieve and display data from database ,used streamlit for\n",
      "        interface\n",
      "      Article/Blog generation: \n",
      "         Accept a topic from user and generate an article using Llamma2,\n",
      "         also give an image representing the topic using Dall-e\n",
      "         used streamlit for interface\n",
      "W O R K  E X P E R I E N C E\n",
      "ADMINISTRATIVE ASSISTANT AT CUSAT\n",
      "   Handling applicant data and processing them\n",
      "Assist in shortlisting of candidates and conducting interviews\n",
      "Assist in preparation of certificateshttps://www.linkedin.com/in/varun-\n",
      "m-s-data-analyst/\n"
     ]
    }
   ],
   "source": [
    "#using pdf plumber\n",
    "import pdfplumber\n",
    "\n",
    "with pdfplumber.open(path) as pdf:\n",
    "    # iterate over each page\n",
    "    for page in pdf.pages:\n",
    "        # extract text\n",
    "        text2 = page.extract_text()\n",
    "        print(text)\n"
   ]
  },
  {
   "cell_type": "code",
   "execution_count": 82,
   "id": "f9800493-72c4-4875-8062-0a30d0c8a354",
   "metadata": {},
   "outputs": [
    {
     "data": {
      "text/plain": [
       "'V A R U N M S\\nASPIRING DATA\\nANALYST\\nPROFILE\\nCONTACT Motivated and detail-oriented aspiring data analyst with a passion\\n+91 7736577008 for transforming raw data into valuable insights. Eager to apply a\\ncombination of analytical skills in a dynamic and competitive\\nvarunmsaji01@gmail.com\\nenvironment. Adept at leveraging data-driven strategies to guide\\nErnakulam\\ninformed business decisions, I am committed to contributing to\\nhttps://www.linkedin.com/in/varun- the growth and success of the organization.\\nm-s-data-analyst/\\nPROJECT WORKS\\nSKILLS\\nFake news detection streamlit web app :\\nPython: pandas,matplotlib,seaborn,\\nAccept user input and classify it as fake or not,\\nnumy\\nUsed pandas and NLP to clean and process data ,logistic\\nMachinelearning:Regression,\\nregression to classify data and streamlit to create interface\\nclassification,clustering\\nBook recommendation flask app:\\nDeep Learning:ANN,CNN,\\nAccept user input and display similar book,\\nRNN,LSTM, Tensorflow,keras,\\nUsed pandas,NLP,numpy to process dataset,used both colaborative\\n,NLP,openCV, Amazon sage maker\\nand popularity based filtering technique, Flask and basic html\\nStreamlit,flask,langchain,rasa\\nReal time face recognition:\\nSQL,Power BI,Excel,\\nDetect face using harcascade file in real time using webcam,\\nWord,Powerpoint\\nUsed OpenCV to load and process the webcam feed and KNN to\\nrecognize face\\nEDUCATION\\nTraffic sign classification streamlit app:\\nUsed CNN to identify and classify the images of traffic sign,\\nB.Tech Computer Science\\nAccept input from user and identify and display the sign\\nSNGIST\\nChat with PDF streamlit app:\\nCompleted B.Tech computer Accept pdf data from user and create a knowledge base,\\nscience with 60 percentage Uses openAI to interact with the knowledge base and answers\\nmarks user questions,used langchain and streamlit for interface\\nPDF summarization streamlit app :\\nBig data analytics and data\\nAccept pdf from user and gives a summary using hugginface model\\nscience\\nand streamlit for interface\\nLuminar technolab\\nText to sql retreiveal streamlit app:\\nCompleted a comprehensive Take user input and convert it into sql queries using google gemini\\ncourse on data analysis API and retrieve and display data from database ,used streamlit for\\n,machine learning,deep learning interface\\nin python Article/Blog generation:\\nAccept a topic from user and generate an article using Llamma2,\\nalso give an image representing the topic using Dall-e\\nused streamlit for interface\\nLANGUAGES\\nMalayalam\\nWORK EXPERIENCE\\nEnglish\\nADMINISTRATIVE ASSISTANT AT CUSAT\\nH andling applicant data and processing them\\nAssist in shortlisting of candidates and conducting interviews\\nAssist in preparation of certificates'"
      ]
     },
     "execution_count": 82,
     "metadata": {},
     "output_type": "execute_result"
    }
   ],
   "source": [
    "text2"
   ]
  },
  {
   "cell_type": "code",
   "execution_count": 83,
   "id": "d30eab05-ae58-4552-ba78-9dd889ad3e59",
   "metadata": {},
   "outputs": [
    {
     "data": {
      "text/plain": [
       "{'projects': [{'name': 'Fake news detection streamlit web app',\n",
       "   'technologies': ['pandas', 'NLP', 'logistic regression', 'streamlit']},\n",
       "  {'name': 'Book recommendation flask app',\n",
       "   'technologies': ['pandas', 'NLP', 'numpy', 'Flask', 'HTML']},\n",
       "  {'name': 'Real time face recognition', 'technologies': ['OpenCV', 'KNN']},\n",
       "  {'name': 'Traffic sign classification streamlit app',\n",
       "   'technologies': ['CNN', 'streamlit']},\n",
       "  {'name': 'Chat with PDF streamlit app',\n",
       "   'technologies': ['OpenAI', 'langchain', 'streamlit']},\n",
       "  {'name': 'PDF summarization streamlit app',\n",
       "   'technologies': ['hugginface', 'streamlit']},\n",
       "  {'name': 'Text to sql retreiveal streamlit app',\n",
       "   'technologies': ['google gemini API', 'streamlit']},\n",
       "  {'name': 'Article/Blog generation',\n",
       "   'technologies': ['Llamma2', 'Dall-e', 'streamlit']}],\n",
       " 'skills': ['Python',\n",
       "  'pandas',\n",
       "  'matplotlib',\n",
       "  'seaborn',\n",
       "  'numpy',\n",
       "  'Machine learning',\n",
       "  'Regression',\n",
       "  'classification',\n",
       "  'clustering',\n",
       "  'Deep Learning',\n",
       "  'ANN',\n",
       "  'CNN',\n",
       "  'RNN',\n",
       "  'LSTM',\n",
       "  'Tensorflow',\n",
       "  'keras',\n",
       "  'NLP',\n",
       "  'openCV',\n",
       "  'Amazon sage maker',\n",
       "  'Streamlit',\n",
       "  'flask',\n",
       "  'langchain',\n",
       "  'rasa',\n",
       "  'SQL',\n",
       "  'Power BI',\n",
       "  'Excel',\n",
       "  'Word',\n",
       "  'Powerpoint',\n",
       "  'Big data analytics',\n",
       "  'data science']}"
      ]
     },
     "execution_count": 83,
     "metadata": {},
     "output_type": "execute_result"
    }
   ],
   "source": [
    "import json \n",
    "import typing_extensions as typing\n",
    "\n",
    "\n",
    "model = genai.GenerativeModel(\n",
    "    \"gemini-1.5-flash\",\n",
    "    generation_config={\"response_mime_type\": \"application/json\"}\n",
    ")\n",
    "prompt_test = f\"\"\"Analyse the text given {text} and give the projects and the tech used in the \n",
    "projects and the skills given in the text\"\"\"\n",
    "\n",
    "result = model.generate_content(\n",
    "    prompt_test.format(text),\n",
    "    generation_config=genai.GenerationConfig(\n",
    "        response_mime_type=\"application/json\",\n",
    "        response_schema = list[details]\n",
    "    ))\n",
    "data = json.loads(result.text)\n",
    "data"
   ]
  },
  {
   "cell_type": "code",
   "execution_count": 85,
   "id": "454d5f77-8188-4b38-a312-074261b34284",
   "metadata": {},
   "outputs": [
    {
     "data": {
      "text/plain": [
       "list"
      ]
     },
     "execution_count": 85,
     "metadata": {},
     "output_type": "execute_result"
    }
   ],
   "source": []
  },
  {
   "cell_type": "code",
   "execution_count": 89,
   "id": "c5f4d180-aaf7-4de4-9e51-158ac75fb238",
   "metadata": {},
   "outputs": [],
   "source": [
    "#ATS\n",
    "job_description =\"\"\"Job Description:\n",
    "As a Junior AI Engineer specializing in Generative AI, you will be part of our dynamic AI team responsible for developing and deploying state-of-the-art generative models. You will work closely with senior engineers and researchers to design, implement, and optimize algorithms that generate novel content, enhance user experiences, and drive innovation across various domains.\n",
    "\n",
    "Responsibilities:\n",
    "\n",
    "Collaborate with senior AI engineers to develop and deploy generative models using deep learning frameworks such as TensorFlow or PyTorch.\n",
    "Assist in researching and implementing cutting-edge techniques in generative modeling, including GANs, VAEs, and transformer-based architectures.\n",
    "Optimize models for performance, scalability, and efficiency in real-world applications.\n",
    "Work with cross-functional teams to integrate generative AI solutions into existing products or develop new applications.\n",
    "Stay updated with the latest advancements in AI and machine learning research, particularly in generative modeling, and contribute to internal knowledge sharing.\n",
    "Requirements:\n",
    "\n",
    "Bachelor’s degree in Computer Science, Engineering, Mathematics, or a related field.\n",
    "Solid understanding of machine learning fundamentals and deep learning concepts.\n",
    "Proficiency in at least one programming language such as Python, along with experience using TensorFlow or PyTorch for building and training models.\n",
    "Familiarity with generative models (e.g., GANs, VAEs) and their applications.\n",
    "Strong analytical and problem-solving skills, with a passion for AI and its potential to transform industries.\n",
    "Excellent communication skills and ability to work effectively in a collaborative team environment.\n",
    "Preferred Qualifications:\n",
    "\n",
    "Experience with cloud platforms (e.g., AWS, Azure, Google Cloud) and distributed computing.\n",
    "Contributions to open-source AI projects or participation in AI competitions.\n",
    "Advanced coursework or projects in generative modeling or related fields.\n",
    "Benefits:\n",
    "\n",
    "Competitive salary and benefits package.\n",
    "Opportunities for career growth and professional development.\n",
    "Dynamic work environment with a diverse and talented team.\n",
    "Chance to work on innovative projects at the forefront of AI technology.\"\"\"\n",
    "\n",
    "ats_prompt = f\"\"\"you are an expert resume analyser that can analyse the given job description {job_description} and the resume text {text}\n",
    "and give the percentage match between the job description and the text , give percentage in 1 to 100. also give what can be added to the resume to make the match better\"\"\"\n",
    "\n",
    "result =model.generate_content(ats_prompt.format(job_description,text))"
   ]
  },
  {
   "cell_type": "code",
   "execution_count": 90,
   "id": "e099468a-fcf4-4307-9744-1b8787faac13",
   "metadata": {},
   "outputs": [
    {
     "data": {
      "text/plain": [
       "'{\"match_percentage\": 75, \"resume_improvement_suggestions\": \"The resume showcases a strong foundation in data analysis and programming, including deep learning frameworks like TensorFlow and Keras. However, to align better with the Junior AI Engineer role, consider these enhancements:\\\\n\\\\n* **Highlight Generative AI Experience:**  Emphasize projects or skills directly related to generative models (GANs, VAEs, Transformers).  For example, mention specific applications of these models in your projects. \\\\n* **Showcase Deep Learning Expertise:**  Detail your experience with specific deep learning architectures, such as convolutional neural networks (CNNs) and recurrent neural networks (RNNs/LSTMs), particularly if they have been used for generative tasks.  \\\\n* **Quantify Achievements:**  Instead of simply listing projects, consider quantifying results. For instance, mention the accuracy of your fake news detection model or the improvement in book recommendation accuracy. \\\\n* **Target Language:**  Use language specific to generative AI in your resume summary. Highlight your passion for developing novel content and user experiences with AI.\\\\n* **Add Cloud Skills:**  Mention any experience with cloud platforms like AWS, Azure, or Google Cloud, as they are preferred qualifications.\\\\n* **Focus on Relevant Projects:**  Prioritize projects that showcase your generative AI capabilities. For example, the \\'Article/Blog generation\\' project could be highlighted as it aligns well with the job description.\\\\n* **Consider Adding a Portfolio:**  A portfolio showcasing your generative AI projects, particularly those that involve interactive applications, can significantly strengthen your application.\"}\\n'"
      ]
     },
     "execution_count": 90,
     "metadata": {},
     "output_type": "execute_result"
    }
   ],
   "source": [
    "result.text"
   ]
  },
  {
   "cell_type": "code",
   "execution_count": 106,
   "id": "02cc0ffd-1426-49cc-bfa1-3d3d6aa5ca30",
   "metadata": {},
   "outputs": [
    {
     "data": {
      "text/plain": [
       "{'name': 'Fake news detection streamlit web app',\n",
       " 'technologies': ['pandas', 'NLP', 'logistic regression', 'streamlit']}"
      ]
     },
     "execution_count": 106,
     "metadata": {},
     "output_type": "execute_result"
    }
   ],
   "source": [
    "name =data['projects'][0]\n",
    "name"
   ]
  },
  {
   "cell_type": "code",
   "execution_count": 107,
   "id": "29ee67a9-accc-4bac-9afb-7a6a224e387e",
   "metadata": {},
   "outputs": [],
   "source": [
    "nam = name['name']\n",
    "technologies = name['technologies']"
   ]
  },
  {
   "cell_type": "code",
   "execution_count": 109,
   "id": "3e07dccf-a7b5-4b55-9bf4-6a2b9b1dc9fe",
   "metadata": {},
   "outputs": [
    {
     "data": {
      "text/plain": [
       "['pandas', 'NLP', 'logistic regression', 'streamlit']"
      ]
     },
     "execution_count": 109,
     "metadata": {},
     "output_type": "execute_result"
    }
   ],
   "source": []
  },
  {
   "cell_type": "code",
   "execution_count": null,
   "id": "bef66913-d306-460e-9f72-fcd58948cdb6",
   "metadata": {},
   "outputs": [],
   "source": []
  }
 ],
 "metadata": {
  "kernelspec": {
   "display_name": "genai",
   "language": "python",
   "name": "genai"
  },
  "language_info": {
   "codemirror_mode": {
    "name": "ipython",
    "version": 3
   },
   "file_extension": ".py",
   "mimetype": "text/x-python",
   "name": "python",
   "nbconvert_exporter": "python",
   "pygments_lexer": "ipython3",
   "version": "3.10.0"
  }
 },
 "nbformat": 4,
 "nbformat_minor": 5
}
