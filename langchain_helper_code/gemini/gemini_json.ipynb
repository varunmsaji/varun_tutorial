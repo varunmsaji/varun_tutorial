{
 "cells": [
  {
   "cell_type": "code",
   "execution_count": 1,
   "id": "82202ce1-7528-45e3-b7ef-e6c14acb36af",
   "metadata": {},
   "outputs": [
    {
     "name": "stderr",
     "output_type": "stream",
     "text": [
      "/home/varun/.local/lib/python3.10/site-packages/tqdm/auto.py:21: TqdmWarning: IProgress not found. Please update jupyter and ipywidgets. See https://ipywidgets.readthedocs.io/en/stable/user_install.html\n",
      "  from .autonotebook import tqdm as notebook_tqdm\n"
     ]
    }
   ],
   "source": [
    "import os \n",
    "import google.generativeai as genai \n",
    "from dotenv import load_dotenv\n",
    "from langchain_google_genai import ChatGoogleGenerativeAI\n",
    "from langchain.schema.output_parser import StrOutputParser\n",
    "from langchain.prompts import ChatPromptTemplate\n",
    "\n",
    "load_dotenv()\n",
    "\n",
    "\n",
    "os.environ['GOOGLE_API_KEY']=os.getenv('GOOGLE_API_KEY')\n",
    "genai.configure(api_key=os.environ['GOOGLE_API_KEY'])\n",
    "\n",
    "# model=genai.GenerativeModel('gemini-pro')"
   ]
  },
  {
   "cell_type": "code",
   "execution_count": 12,
   "id": "95189f59-8f6b-438a-af36-a7510c164462",
   "metadata": {},
   "outputs": [],
   "source": [
    "model= ChatGoogleGenerativeAI(model='gemini-pro')\n",
    "for i in range(5):\n",
    "  result =model.invoke('what is your name')\n",
    "  result.content"
   ]
  },
  {
   "cell_type": "code",
   "execution_count": 13,
   "id": "6f28cae1-544f-48e6-a90e-508d1b7b293e",
   "metadata": {},
   "outputs": [],
   "source": [
    "#to get the output in json format\n",
    "model= ChatGoogleGenerativeAI(model='gemini-1.5-flash',generation_config={'response_mime_type':'application/json'})\n",
    "prompt =\"\"\"Using the following JSON Schema,\n",
    "Please list down 5 popular programming languages.\n",
    "Language={\n",
    "\"programming_language\":str\n",
    "}\n",
    "Return:list[language]\"\"\"\n",
    "\n"
   ]
  },
  {
   "cell_type": "code",
   "execution_count": 20,
   "id": "f01fa1d5-b20f-4551-8e5c-a49ecfbcb920",
   "metadata": {},
   "outputs": [
    {
     "name": "stdout",
     "output_type": "stream",
     "text": [
      "[{\"programming_language\": \"Python\"}, {\"programming_language\": \"JavaScript\"}, {\"programming_language\": \"Java\"}, {\"programming_language\": \"C++\"}, {\"programming_language\": \"C#\"}, {\"programming_language\": \"Go\"}, {\"programming_language\": \"PHP\"}]\n",
      "\n"
     ]
    }
   ],
   "source": [
    "model=genai.GenerativeModel(\n",
    "    \"gemini-1.5-flash\",\n",
    "    generation_config={'response_mime_type':'application/json'}\n",
    "    \n",
    ")\n",
    "response = model.generate_content(prompt)\n",
    "print(response.text)"
   ]
  },
  {
   "cell_type": "markdown",
   "id": "31a83196-06d0-431c-aac7-19d3facad930",
   "metadata": {},
   "source": [
    "constraint decoding\n"
   ]
  },
  {
   "cell_type": "code",
   "execution_count": 22,
   "id": "43c4e862-9ae4-41b6-a8b4-f4f01da8f94a",
   "metadata": {},
   "outputs": [],
   "source": [
    "import typing_extensions as typing"
   ]
  },
  {
   "cell_type": "code",
   "execution_count": 23,
   "id": "5ab0c13b-3e85-439b-8b96-2ccf83893eab",
   "metadata": {},
   "outputs": [],
   "source": [
    "class Recipe(typing.TypedDict):\n",
    "    recipe_name:str"
   ]
  },
  {
   "cell_type": "code",
   "execution_count": 25,
   "id": "bf9e4f67-2240-4cc6-b044-d1aacac3639b",
   "metadata": {},
   "outputs": [],
   "source": [
    "result = model.generate_content(\n",
    "    \"please list 5 popular cooking recipe\",\n",
    "    generation_config=genai.GenerationConfig(\n",
    "        response_mime_type='application/json',\n",
    "        response_schema=list[Recipe]\n",
    "    ),\n",
    "    request_options={'timeout':600}\n",
    ")\n"
   ]
  },
  {
   "cell_type": "code",
   "execution_count": 26,
   "id": "8698e83a-e296-4d71-855d-e14178e29e86",
   "metadata": {},
   "outputs": [
    {
     "name": "stdout",
     "output_type": "stream",
     "text": [
      "{\"recipes\": [{\"name\": \"Spaghetti with Tomato Sauce\", \"ingredients\": [\"spaghetti\", \"tomatoes\", \"garlic\", \"onion\", \"olive oil\", \"basil\", \"salt\", \"pepper\"], \"instructions\": [\"Cook spaghetti according to package directions.\", \"While spaghetti is cooking, heat olive oil in a large saucepan over medium heat.\", \"Add garlic and onion and cook until softened.\", \"Add tomatoes and bring to a simmer.\", \"Season with salt and pepper.\", \"Add basil and cook for 5 minutes.\", \"Drain spaghetti and add to sauce.\", \"Toss to coat.\", \"Serve immediately.\"]}, {\"name\": \"Chicken Stir-Fry\", \"ingredients\": [\"chicken breasts\", \"broccoli\", \"carrots\", \"soy sauce\", \"ginger\", \"garlic\", \"sesame oil\"], \"instructions\": [\"Cut chicken breasts into bite-sized pieces.\", \"Cut broccoli into florets and carrots into thin slices.\", \"Heat sesame oil in a large wok or skillet over high heat.\", \"Add chicken and cook until browned.\", \"Add broccoli, carrots, ginger, and garlic and cook until vegetables are tender-crisp.\", \"Add soy sauce and cook for 1 minute.\", \"Serve over rice.\"]}, {\"name\": \"Chocolate Chip Cookies\", \"ingredients\": [\"butter\", \"sugar\", \"eggs\", \"vanilla extract\", \"flour\", \"baking soda\", \"salt\", \"chocolate chips\"], \"instructions\": [\"Preheat oven to 375 degrees F (190 degrees C).\", \"Cream together butter and sugar until light and fluffy.\", \"Beat in eggs one at a time, then stir in vanilla.\", \"In a separate bowl, whisk together flour, baking soda, and salt.\", \"Gradually add dry ingredients to wet ingredients, mixing until just combined.\", \"Stir in chocolate chips.\", \"Drop by rounded tablespoons onto ungreased baking sheets.\", \"Bake for 10-12 minutes, or until edges are golden brown.\"]}, {\"name\": \"Grilled Cheese Sandwich\", \"ingredients\": [\"bread\", \"cheese\", \"butter\"], \"instructions\": [\"Spread butter on one side of each bread slice.\", \"Place one slice of bread, butter-side down, in a skillet over medium heat.\", \"Top with cheese.\", \"Place other slice of bread on top, butter-side up.\", \"Cook for 2-3 minutes per side, or until golden brown and cheese is melted.\"]}, {\"name\": \"Caesar Salad\", \"ingredients\": [\"romaine lettuce\", \"croutons\", \"parmesan cheese\", \"Caesar dressing\"], \"instructions\": [\"Wash and dry romaine lettuce.\", \"Tear lettuce into bite-sized pieces.\", \"In a large bowl, toss lettuce with croutons, parmesan cheese, and Caesar dressing.\", \"Serve immediately.\"}]}\n",
      "\n"
     ]
    }
   ],
   "source": [
    "print(result.text)"
   ]
  },
  {
   "cell_type": "code",
   "execution_count": null,
   "id": "1658c407-efac-46f6-b89e-0b8c60fde591",
   "metadata": {},
   "outputs": [],
   "source": []
  }
 ],
 "metadata": {
  "kernelspec": {
   "display_name": "graph",
   "language": "python",
   "name": "graph"
  },
  "language_info": {
   "codemirror_mode": {
    "name": "ipython",
    "version": 3
   },
   "file_extension": ".py",
   "mimetype": "text/x-python",
   "name": "python",
   "nbconvert_exporter": "python",
   "pygments_lexer": "ipython3",
   "version": "3.10.0"
  }
 },
 "nbformat": 4,
 "nbformat_minor": 5
}
