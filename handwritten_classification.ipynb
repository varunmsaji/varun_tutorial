{
 "cells": [
  {
   "cell_type": "code",
   "execution_count": 2,
   "id": "66117c81-a879-4e3a-92c1-9dda0d054521",
   "metadata": {},
   "outputs": [],
   "source": [
    "from torchvision import datasets\n",
    "from torchvision.transforms import ToTensor"
   ]
  },
  {
   "cell_type": "code",
   "execution_count": 3,
   "id": "f0dd770b-ae12-4123-a301-91147a58680c",
   "metadata": {},
   "outputs": [
    {
     "name": "stdout",
     "output_type": "stream",
     "text": [
      "Downloading http://yann.lecun.com/exdb/mnist/train-images-idx3-ubyte.gz\n",
      "Downloading http://yann.lecun.com/exdb/mnist/train-images-idx3-ubyte.gz to data/MNIST/raw/train-images-idx3-ubyte.gz\n"
     ]
    },
    {
     "name": "stderr",
     "output_type": "stream",
     "text": [
      "100%|████████████████████████████| 9912422/9912422 [00:03<00:00, 3151467.85it/s]\n"
     ]
    },
    {
     "name": "stdout",
     "output_type": "stream",
     "text": [
      "Extracting data/MNIST/raw/train-images-idx3-ubyte.gz to data/MNIST/raw\n",
      "\n",
      "Downloading http://yann.lecun.com/exdb/mnist/train-labels-idx1-ubyte.gz\n",
      "Downloading http://yann.lecun.com/exdb/mnist/train-labels-idx1-ubyte.gz to data/MNIST/raw/train-labels-idx1-ubyte.gz\n"
     ]
    },
    {
     "name": "stderr",
     "output_type": "stream",
     "text": [
      "100%|████████████████████████████████| 28881/28881 [00:00<00:00, 3490942.19it/s]\n"
     ]
    },
    {
     "name": "stdout",
     "output_type": "stream",
     "text": [
      "Extracting data/MNIST/raw/train-labels-idx1-ubyte.gz to data/MNIST/raw\n",
      "\n",
      "Downloading http://yann.lecun.com/exdb/mnist/t10k-images-idx3-ubyte.gz\n",
      "Downloading http://yann.lecun.com/exdb/mnist/t10k-images-idx3-ubyte.gz to data/MNIST/raw/t10k-images-idx3-ubyte.gz\n"
     ]
    },
    {
     "name": "stderr",
     "output_type": "stream",
     "text": [
      "100%|████████████████████████████| 1648877/1648877 [00:01<00:00, 1341595.53it/s]\n"
     ]
    },
    {
     "name": "stdout",
     "output_type": "stream",
     "text": [
      "Extracting data/MNIST/raw/t10k-images-idx3-ubyte.gz to data/MNIST/raw\n",
      "\n",
      "Downloading http://yann.lecun.com/exdb/mnist/t10k-labels-idx1-ubyte.gz\n",
      "Downloading http://yann.lecun.com/exdb/mnist/t10k-labels-idx1-ubyte.gz to data/MNIST/raw/t10k-labels-idx1-ubyte.gz\n"
     ]
    },
    {
     "name": "stderr",
     "output_type": "stream",
     "text": [
      "100%|██████████████████████████████████| 4542/4542 [00:00<00:00, 8048385.62it/s]"
     ]
    },
    {
     "name": "stdout",
     "output_type": "stream",
     "text": [
      "Extracting data/MNIST/raw/t10k-labels-idx1-ubyte.gz to data/MNIST/raw\n",
      "\n"
     ]
    },
    {
     "name": "stderr",
     "output_type": "stream",
     "text": [
      "\n"
     ]
    }
   ],
   "source": [
    "#download the data\n",
    "train_data = datasets.MNIST(\n",
    "    root='data',\n",
    "    train=True,\n",
    "    transform=ToTensor(),\n",
    "    download=True\n",
    ")\n",
    "test_data = datasets.MNIST(\n",
    "    root='data',\n",
    "    train=False,\n",
    "    transform=ToTensor(),\n",
    "    download=True\n",
    ")"
   ]
  },
  {
   "cell_type": "code",
   "execution_count": 4,
   "id": "81a70ec3-77fe-4bb4-b74b-25da64f8dcb3",
   "metadata": {},
   "outputs": [
    {
     "data": {
      "text/plain": [
       "Dataset MNIST\n",
       "    Number of datapoints: 60000\n",
       "    Root location: data\n",
       "    Split: Train\n",
       "    StandardTransform\n",
       "Transform: ToTensor()"
      ]
     },
     "execution_count": 4,
     "metadata": {},
     "output_type": "execute_result"
    }
   ],
   "source": [
    "train_data"
   ]
  },
  {
   "cell_type": "code",
   "execution_count": 5,
   "id": "6c8e53fb-6312-47e5-bbf1-c19c64f061f5",
   "metadata": {},
   "outputs": [
    {
     "data": {
      "text/plain": [
       "Dataset MNIST\n",
       "    Number of datapoints: 10000\n",
       "    Root location: data\n",
       "    Split: Test\n",
       "    StandardTransform\n",
       "Transform: ToTensor()"
      ]
     },
     "execution_count": 5,
     "metadata": {},
     "output_type": "execute_result"
    }
   ],
   "source": [
    "test_data"
   ]
  },
  {
   "cell_type": "code",
   "execution_count": 7,
   "id": "23dc9b01-a5fd-49d2-b509-71d8f21f8cec",
   "metadata": {},
   "outputs": [
    {
     "data": {
      "text/plain": [
       "torch.Size([60000, 28, 28])"
      ]
     },
     "execution_count": 7,
     "metadata": {},
     "output_type": "execute_result"
    }
   ],
   "source": [
    "train_data.data.shape"
   ]
  },
  {
   "cell_type": "code",
   "execution_count": 9,
   "id": "51db2603-09ce-49a0-812a-7336eb539754",
   "metadata": {},
   "outputs": [],
   "source": [
    "#create the data loader\n",
    "from torch.utils.data import DataLoader\n",
    "\n",
    "loaders = {\n",
    "    'train':DataLoader(train_data,\n",
    "                      batch_size=100,\n",
    "                      shuffle=True,\n",
    "                      num_workers=1),\n",
    "    'test':DataLoader(test_data,\n",
    "                     batch_size=100,\n",
    "                     shuffle=True,\n",
    "                     num_workers=1)\n",
    "}"
   ]
  },
  {
   "cell_type": "code",
   "execution_count": 10,
   "id": "289a1185-726b-4e53-bf06-7a5a0d7d83fa",
   "metadata": {},
   "outputs": [
    {
     "data": {
      "text/plain": [
       "{'train': <torch.utils.data.dataloader.DataLoader at 0x72721129c4c0>,\n",
       " 'test': <torch.utils.data.dataloader.DataLoader at 0x72721129e0b0>}"
      ]
     },
     "execution_count": 10,
     "metadata": {},
     "output_type": "execute_result"
    }
   ],
   "source": [
    "loaders"
   ]
  },
  {
   "cell_type": "code",
   "execution_count": 16,
   "id": "9aefc444-7507-4459-9559-6e40236459cb",
   "metadata": {},
   "outputs": [],
   "source": [
    "import torch.nn as nn\n",
    "import torch.nn.functional as F\n",
    "import torch.optim as optim\n",
    "\n",
    "class CNN(nn.Module):\n",
    "    def __init__(self):\n",
    "        super(CNN, self).__init__()\n",
    "        self.conv1 = nn.Conv2d(1, 10, kernel_size=5)\n",
    "        self.conv2 = nn.Conv2d(10, 20, kernel_size=5)\n",
    "        self.conv2_drop = nn.Dropout2d()\n",
    "        self.fc1 = nn.Linear(320, 50)\n",
    "        self.fc2 = nn.Linear(50, 10)\n",
    "\n",
    "    def forward(self, x):\n",
    "        x = F.relu(F.max_pool2d(self.conv1(x), 2))\n",
    "        x = F.relu(F.max_pool2d(self.conv2_drop(self.conv2(x)), 2))\n",
    "        x = x.view(-1, 320)\n",
    "        x = F.relu(self.fc1(x))\n",
    "        x = F.dropout(x, training=self.training)\n",
    "        x = self.fc2(x)\n",
    "        return F.softmax(x)"
   ]
  },
  {
   "cell_type": "code",
   "execution_count": 17,
   "id": "c2c78846-fd62-4f01-a1f6-6f57b02747e0",
   "metadata": {},
   "outputs": [
    {
     "data": {
      "text/plain": [
       "device(type='cuda')"
      ]
     },
     "execution_count": 17,
     "metadata": {},
     "output_type": "execute_result"
    }
   ],
   "source": [
    "import torch \n",
    "device = torch.device('cuda' if torch.cuda.is_available() else 'cpu')\n",
    "device\n"
   ]
  },
  {
   "cell_type": "code",
   "execution_count": 18,
   "id": "1f10c0ff-61c6-4349-8e6f-e8c3883f6afa",
   "metadata": {},
   "outputs": [],
   "source": [
    "model = CNN().to(device)\n",
    "optimizer = optim.Adam(model.parameters(), lr=0.001)\n",
    "loss_fn = nn.CrossEntropyLoss()\n",
    "\n",
    "def train(epoch):\n",
    "    model.train()\n",
    "    for batch_idx, (data, target) in enumerate(loaders['train']):\n",
    "        data, target = data.to(device), target.to(device)\n",
    "        optimizer.zero_grad()\n",
    "        output = model(data)\n",
    "        loss = loss_fn(output, target)\n",
    "        loss.backward()\n",
    "        optimizer.step()\n",
    "        if batch_idx % 20 == 0:\n",
    "            print(f\"train epoch {epoch} [{batch_idx * len(data)}/{len(loaders['train'].dataset)} ({100. * batch_idx / len(loaders['train']):.0f}%)]\")\n"
   ]
  },
  {
   "cell_type": "code",
   "execution_count": 19,
   "id": "f9dcd434-19be-48ff-ab1d-7a6c0830e2e6",
   "metadata": {},
   "outputs": [],
   "source": [
    "def test():\n",
    "    model.eval()\n",
    "    test_loss = 0\n",
    "    correct = 0\n",
    "    with torch.no_grad():\n",
    "        for data, target in loaders['test']:\n",
    "            data, target = data.to(device), target.to(device)\n",
    "            output = model(data)\n",
    "            test_loss += loss_fn(output, target).item()\n",
    "            pred = output.argmax(dim=1, keepdim=True)\n",
    "            correct += pred.eq(target.view_as(pred)).sum().item()\n",
    "\n",
    "    test_loss /= len(loaders['test'].dataset)\n",
    "    print(f\"\\ntest set: Average loss: {test_loss:.4f}, accuracy: {correct}/{len(loaders['test'].dataset)} ({100. * correct / len(loaders['test'].dataset):.2f}%)\")\n"
   ]
  },
  {
   "cell_type": "code",
   "execution_count": 20,
   "id": "95e3f149-20c5-40ef-87c3-096a867c8fa3",
   "metadata": {},
   "outputs": [
    {
     "name": "stderr",
     "output_type": "stream",
     "text": [
      "/tmp/ipykernel_7972/2530090726.py:21: UserWarning: Implicit dimension choice for softmax has been deprecated. Change the call to include dim=X as an argument.\n",
      "  return F.softmax(x)\n"
     ]
    },
    {
     "name": "stdout",
     "output_type": "stream",
     "text": [
      "train epoch 1 [0/60000 (0%)]\n",
      "train epoch 1 [2000/60000 (3%)]\n",
      "train epoch 1 [4000/60000 (7%)]\n",
      "train epoch 1 [6000/60000 (10%)]\n",
      "train epoch 1 [8000/60000 (13%)]\n",
      "train epoch 1 [10000/60000 (17%)]\n",
      "train epoch 1 [12000/60000 (20%)]\n",
      "train epoch 1 [14000/60000 (23%)]\n",
      "train epoch 1 [16000/60000 (27%)]\n",
      "train epoch 1 [18000/60000 (30%)]\n",
      "train epoch 1 [20000/60000 (33%)]\n",
      "train epoch 1 [22000/60000 (37%)]\n",
      "train epoch 1 [24000/60000 (40%)]\n",
      "train epoch 1 [26000/60000 (43%)]\n",
      "train epoch 1 [28000/60000 (47%)]\n",
      "train epoch 1 [30000/60000 (50%)]\n",
      "train epoch 1 [32000/60000 (53%)]\n",
      "train epoch 1 [34000/60000 (57%)]\n",
      "train epoch 1 [36000/60000 (60%)]\n",
      "train epoch 1 [38000/60000 (63%)]\n",
      "train epoch 1 [40000/60000 (67%)]\n",
      "train epoch 1 [42000/60000 (70%)]\n",
      "train epoch 1 [44000/60000 (73%)]\n",
      "train epoch 1 [46000/60000 (77%)]\n",
      "train epoch 1 [48000/60000 (80%)]\n",
      "train epoch 1 [50000/60000 (83%)]\n",
      "train epoch 1 [52000/60000 (87%)]\n",
      "train epoch 1 [54000/60000 (90%)]\n",
      "train epoch 1 [56000/60000 (93%)]\n",
      "train epoch 1 [58000/60000 (97%)]\n",
      "\n",
      "test set: Average loss: 0.0161, accuracy: 8550/10000 (85.50%)\n",
      "train epoch 2 [0/60000 (0%)]\n",
      "train epoch 2 [2000/60000 (3%)]\n",
      "train epoch 2 [4000/60000 (7%)]\n",
      "train epoch 2 [6000/60000 (10%)]\n",
      "train epoch 2 [8000/60000 (13%)]\n",
      "train epoch 2 [10000/60000 (17%)]\n",
      "train epoch 2 [12000/60000 (20%)]\n",
      "train epoch 2 [14000/60000 (23%)]\n",
      "train epoch 2 [16000/60000 (27%)]\n",
      "train epoch 2 [18000/60000 (30%)]\n",
      "train epoch 2 [20000/60000 (33%)]\n",
      "train epoch 2 [22000/60000 (37%)]\n",
      "train epoch 2 [24000/60000 (40%)]\n",
      "train epoch 2 [26000/60000 (43%)]\n",
      "train epoch 2 [28000/60000 (47%)]\n",
      "train epoch 2 [30000/60000 (50%)]\n",
      "train epoch 2 [32000/60000 (53%)]\n",
      "train epoch 2 [34000/60000 (57%)]\n",
      "train epoch 2 [36000/60000 (60%)]\n",
      "train epoch 2 [38000/60000 (63%)]\n",
      "train epoch 2 [40000/60000 (67%)]\n",
      "train epoch 2 [42000/60000 (70%)]\n",
      "train epoch 2 [44000/60000 (73%)]\n",
      "train epoch 2 [46000/60000 (77%)]\n",
      "train epoch 2 [48000/60000 (80%)]\n",
      "train epoch 2 [50000/60000 (83%)]\n",
      "train epoch 2 [52000/60000 (87%)]\n",
      "train epoch 2 [54000/60000 (90%)]\n",
      "train epoch 2 [56000/60000 (93%)]\n",
      "train epoch 2 [58000/60000 (97%)]\n",
      "\n",
      "test set: Average loss: 0.0152, accuracy: 9440/10000 (94.40%)\n",
      "train epoch 3 [0/60000 (0%)]\n",
      "train epoch 3 [2000/60000 (3%)]\n",
      "train epoch 3 [4000/60000 (7%)]\n",
      "train epoch 3 [6000/60000 (10%)]\n",
      "train epoch 3 [8000/60000 (13%)]\n",
      "train epoch 3 [10000/60000 (17%)]\n",
      "train epoch 3 [12000/60000 (20%)]\n",
      "train epoch 3 [14000/60000 (23%)]\n",
      "train epoch 3 [16000/60000 (27%)]\n",
      "train epoch 3 [18000/60000 (30%)]\n",
      "train epoch 3 [20000/60000 (33%)]\n",
      "train epoch 3 [22000/60000 (37%)]\n",
      "train epoch 3 [24000/60000 (40%)]\n",
      "train epoch 3 [26000/60000 (43%)]\n",
      "train epoch 3 [28000/60000 (47%)]\n",
      "train epoch 3 [30000/60000 (50%)]\n",
      "train epoch 3 [32000/60000 (53%)]\n",
      "train epoch 3 [34000/60000 (57%)]\n",
      "train epoch 3 [36000/60000 (60%)]\n",
      "train epoch 3 [38000/60000 (63%)]\n",
      "train epoch 3 [40000/60000 (67%)]\n",
      "train epoch 3 [42000/60000 (70%)]\n",
      "train epoch 3 [44000/60000 (73%)]\n",
      "train epoch 3 [46000/60000 (77%)]\n",
      "train epoch 3 [48000/60000 (80%)]\n",
      "train epoch 3 [50000/60000 (83%)]\n",
      "train epoch 3 [52000/60000 (87%)]\n",
      "train epoch 3 [54000/60000 (90%)]\n",
      "train epoch 3 [56000/60000 (93%)]\n",
      "train epoch 3 [58000/60000 (97%)]\n",
      "\n",
      "test set: Average loss: 0.0150, accuracy: 9577/10000 (95.77%)\n",
      "train epoch 4 [0/60000 (0%)]\n",
      "train epoch 4 [2000/60000 (3%)]\n",
      "train epoch 4 [4000/60000 (7%)]\n",
      "train epoch 4 [6000/60000 (10%)]\n",
      "train epoch 4 [8000/60000 (13%)]\n",
      "train epoch 4 [10000/60000 (17%)]\n",
      "train epoch 4 [12000/60000 (20%)]\n",
      "train epoch 4 [14000/60000 (23%)]\n",
      "train epoch 4 [16000/60000 (27%)]\n",
      "train epoch 4 [18000/60000 (30%)]\n",
      "train epoch 4 [20000/60000 (33%)]\n",
      "train epoch 4 [22000/60000 (37%)]\n",
      "train epoch 4 [24000/60000 (40%)]\n",
      "train epoch 4 [26000/60000 (43%)]\n",
      "train epoch 4 [28000/60000 (47%)]\n",
      "train epoch 4 [30000/60000 (50%)]\n",
      "train epoch 4 [32000/60000 (53%)]\n",
      "train epoch 4 [34000/60000 (57%)]\n",
      "train epoch 4 [36000/60000 (60%)]\n",
      "train epoch 4 [38000/60000 (63%)]\n",
      "train epoch 4 [40000/60000 (67%)]\n",
      "train epoch 4 [42000/60000 (70%)]\n",
      "train epoch 4 [44000/60000 (73%)]\n",
      "train epoch 4 [46000/60000 (77%)]\n",
      "train epoch 4 [48000/60000 (80%)]\n",
      "train epoch 4 [50000/60000 (83%)]\n",
      "train epoch 4 [52000/60000 (87%)]\n",
      "train epoch 4 [54000/60000 (90%)]\n",
      "train epoch 4 [56000/60000 (93%)]\n",
      "train epoch 4 [58000/60000 (97%)]\n",
      "\n",
      "test set: Average loss: 0.0150, accuracy: 9631/10000 (96.31%)\n",
      "train epoch 5 [0/60000 (0%)]\n",
      "train epoch 5 [2000/60000 (3%)]\n",
      "train epoch 5 [4000/60000 (7%)]\n",
      "train epoch 5 [6000/60000 (10%)]\n",
      "train epoch 5 [8000/60000 (13%)]\n",
      "train epoch 5 [10000/60000 (17%)]\n",
      "train epoch 5 [12000/60000 (20%)]\n",
      "train epoch 5 [14000/60000 (23%)]\n",
      "train epoch 5 [16000/60000 (27%)]\n",
      "train epoch 5 [18000/60000 (30%)]\n",
      "train epoch 5 [20000/60000 (33%)]\n",
      "train epoch 5 [22000/60000 (37%)]\n",
      "train epoch 5 [24000/60000 (40%)]\n",
      "train epoch 5 [26000/60000 (43%)]\n",
      "train epoch 5 [28000/60000 (47%)]\n",
      "train epoch 5 [30000/60000 (50%)]\n",
      "train epoch 5 [32000/60000 (53%)]\n",
      "train epoch 5 [34000/60000 (57%)]\n",
      "train epoch 5 [36000/60000 (60%)]\n",
      "train epoch 5 [38000/60000 (63%)]\n",
      "train epoch 5 [40000/60000 (67%)]\n",
      "train epoch 5 [42000/60000 (70%)]\n",
      "train epoch 5 [44000/60000 (73%)]\n",
      "train epoch 5 [46000/60000 (77%)]\n",
      "train epoch 5 [48000/60000 (80%)]\n",
      "train epoch 5 [50000/60000 (83%)]\n",
      "train epoch 5 [52000/60000 (87%)]\n",
      "train epoch 5 [54000/60000 (90%)]\n",
      "train epoch 5 [56000/60000 (93%)]\n",
      "train epoch 5 [58000/60000 (97%)]\n",
      "\n",
      "test set: Average loss: 0.0150, accuracy: 9648/10000 (96.48%)\n",
      "train epoch 6 [0/60000 (0%)]\n",
      "train epoch 6 [2000/60000 (3%)]\n",
      "train epoch 6 [4000/60000 (7%)]\n",
      "train epoch 6 [6000/60000 (10%)]\n",
      "train epoch 6 [8000/60000 (13%)]\n",
      "train epoch 6 [10000/60000 (17%)]\n",
      "train epoch 6 [12000/60000 (20%)]\n",
      "train epoch 6 [14000/60000 (23%)]\n",
      "train epoch 6 [16000/60000 (27%)]\n",
      "train epoch 6 [18000/60000 (30%)]\n",
      "train epoch 6 [20000/60000 (33%)]\n",
      "train epoch 6 [22000/60000 (37%)]\n",
      "train epoch 6 [24000/60000 (40%)]\n",
      "train epoch 6 [26000/60000 (43%)]\n",
      "train epoch 6 [28000/60000 (47%)]\n",
      "train epoch 6 [30000/60000 (50%)]\n",
      "train epoch 6 [32000/60000 (53%)]\n",
      "train epoch 6 [34000/60000 (57%)]\n",
      "train epoch 6 [36000/60000 (60%)]\n",
      "train epoch 6 [38000/60000 (63%)]\n",
      "train epoch 6 [40000/60000 (67%)]\n",
      "train epoch 6 [42000/60000 (70%)]\n",
      "train epoch 6 [44000/60000 (73%)]\n",
      "train epoch 6 [46000/60000 (77%)]\n",
      "train epoch 6 [48000/60000 (80%)]\n",
      "train epoch 6 [50000/60000 (83%)]\n",
      "train epoch 6 [52000/60000 (87%)]\n",
      "train epoch 6 [54000/60000 (90%)]\n",
      "train epoch 6 [56000/60000 (93%)]\n",
      "train epoch 6 [58000/60000 (97%)]\n",
      "\n",
      "test set: Average loss: 0.0149, accuracy: 9666/10000 (96.66%)\n",
      "train epoch 7 [0/60000 (0%)]\n",
      "train epoch 7 [2000/60000 (3%)]\n",
      "train epoch 7 [4000/60000 (7%)]\n",
      "train epoch 7 [6000/60000 (10%)]\n",
      "train epoch 7 [8000/60000 (13%)]\n",
      "train epoch 7 [10000/60000 (17%)]\n",
      "train epoch 7 [12000/60000 (20%)]\n",
      "train epoch 7 [14000/60000 (23%)]\n",
      "train epoch 7 [16000/60000 (27%)]\n",
      "train epoch 7 [18000/60000 (30%)]\n",
      "train epoch 7 [20000/60000 (33%)]\n",
      "train epoch 7 [22000/60000 (37%)]\n",
      "train epoch 7 [24000/60000 (40%)]\n",
      "train epoch 7 [26000/60000 (43%)]\n",
      "train epoch 7 [28000/60000 (47%)]\n",
      "train epoch 7 [30000/60000 (50%)]\n",
      "train epoch 7 [32000/60000 (53%)]\n",
      "train epoch 7 [34000/60000 (57%)]\n",
      "train epoch 7 [36000/60000 (60%)]\n",
      "train epoch 7 [38000/60000 (63%)]\n",
      "train epoch 7 [40000/60000 (67%)]\n",
      "train epoch 7 [42000/60000 (70%)]\n",
      "train epoch 7 [44000/60000 (73%)]\n",
      "train epoch 7 [46000/60000 (77%)]\n",
      "train epoch 7 [48000/60000 (80%)]\n",
      "train epoch 7 [50000/60000 (83%)]\n",
      "train epoch 7 [52000/60000 (87%)]\n",
      "train epoch 7 [54000/60000 (90%)]\n",
      "train epoch 7 [56000/60000 (93%)]\n",
      "train epoch 7 [58000/60000 (97%)]\n",
      "\n",
      "test set: Average loss: 0.0149, accuracy: 9711/10000 (97.11%)\n",
      "train epoch 8 [0/60000 (0%)]\n",
      "train epoch 8 [2000/60000 (3%)]\n",
      "train epoch 8 [4000/60000 (7%)]\n",
      "train epoch 8 [6000/60000 (10%)]\n",
      "train epoch 8 [8000/60000 (13%)]\n",
      "train epoch 8 [10000/60000 (17%)]\n",
      "train epoch 8 [12000/60000 (20%)]\n",
      "train epoch 8 [14000/60000 (23%)]\n",
      "train epoch 8 [16000/60000 (27%)]\n",
      "train epoch 8 [18000/60000 (30%)]\n",
      "train epoch 8 [20000/60000 (33%)]\n",
      "train epoch 8 [22000/60000 (37%)]\n",
      "train epoch 8 [24000/60000 (40%)]\n",
      "train epoch 8 [26000/60000 (43%)]\n",
      "train epoch 8 [28000/60000 (47%)]\n",
      "train epoch 8 [30000/60000 (50%)]\n",
      "train epoch 8 [32000/60000 (53%)]\n",
      "train epoch 8 [34000/60000 (57%)]\n",
      "train epoch 8 [36000/60000 (60%)]\n",
      "train epoch 8 [38000/60000 (63%)]\n",
      "train epoch 8 [40000/60000 (67%)]\n",
      "train epoch 8 [42000/60000 (70%)]\n",
      "train epoch 8 [44000/60000 (73%)]\n",
      "train epoch 8 [46000/60000 (77%)]\n",
      "train epoch 8 [48000/60000 (80%)]\n",
      "train epoch 8 [50000/60000 (83%)]\n",
      "train epoch 8 [52000/60000 (87%)]\n",
      "train epoch 8 [54000/60000 (90%)]\n",
      "train epoch 8 [56000/60000 (93%)]\n",
      "train epoch 8 [58000/60000 (97%)]\n",
      "\n",
      "test set: Average loss: 0.0149, accuracy: 9716/10000 (97.16%)\n",
      "train epoch 9 [0/60000 (0%)]\n",
      "train epoch 9 [2000/60000 (3%)]\n",
      "train epoch 9 [4000/60000 (7%)]\n",
      "train epoch 9 [6000/60000 (10%)]\n",
      "train epoch 9 [8000/60000 (13%)]\n",
      "train epoch 9 [10000/60000 (17%)]\n",
      "train epoch 9 [12000/60000 (20%)]\n",
      "train epoch 9 [14000/60000 (23%)]\n",
      "train epoch 9 [16000/60000 (27%)]\n",
      "train epoch 9 [18000/60000 (30%)]\n",
      "train epoch 9 [20000/60000 (33%)]\n",
      "train epoch 9 [22000/60000 (37%)]\n",
      "train epoch 9 [24000/60000 (40%)]\n",
      "train epoch 9 [26000/60000 (43%)]\n",
      "train epoch 9 [28000/60000 (47%)]\n",
      "train epoch 9 [30000/60000 (50%)]\n",
      "train epoch 9 [32000/60000 (53%)]\n",
      "train epoch 9 [34000/60000 (57%)]\n",
      "train epoch 9 [36000/60000 (60%)]\n",
      "train epoch 9 [38000/60000 (63%)]\n",
      "train epoch 9 [40000/60000 (67%)]\n",
      "train epoch 9 [42000/60000 (70%)]\n",
      "train epoch 9 [44000/60000 (73%)]\n",
      "train epoch 9 [46000/60000 (77%)]\n",
      "train epoch 9 [48000/60000 (80%)]\n",
      "train epoch 9 [50000/60000 (83%)]\n",
      "train epoch 9 [52000/60000 (87%)]\n",
      "train epoch 9 [54000/60000 (90%)]\n",
      "train epoch 9 [56000/60000 (93%)]\n",
      "train epoch 9 [58000/60000 (97%)]\n",
      "\n",
      "test set: Average loss: 0.0149, accuracy: 9741/10000 (97.41%)\n",
      "train epoch 10 [0/60000 (0%)]\n",
      "train epoch 10 [2000/60000 (3%)]\n",
      "train epoch 10 [4000/60000 (7%)]\n",
      "train epoch 10 [6000/60000 (10%)]\n",
      "train epoch 10 [8000/60000 (13%)]\n",
      "train epoch 10 [10000/60000 (17%)]\n",
      "train epoch 10 [12000/60000 (20%)]\n",
      "train epoch 10 [14000/60000 (23%)]\n",
      "train epoch 10 [16000/60000 (27%)]\n",
      "train epoch 10 [18000/60000 (30%)]\n",
      "train epoch 10 [20000/60000 (33%)]\n",
      "train epoch 10 [22000/60000 (37%)]\n",
      "train epoch 10 [24000/60000 (40%)]\n",
      "train epoch 10 [26000/60000 (43%)]\n",
      "train epoch 10 [28000/60000 (47%)]\n",
      "train epoch 10 [30000/60000 (50%)]\n",
      "train epoch 10 [32000/60000 (53%)]\n",
      "train epoch 10 [34000/60000 (57%)]\n",
      "train epoch 10 [36000/60000 (60%)]\n",
      "train epoch 10 [38000/60000 (63%)]\n",
      "train epoch 10 [40000/60000 (67%)]\n",
      "train epoch 10 [42000/60000 (70%)]\n",
      "train epoch 10 [44000/60000 (73%)]\n",
      "train epoch 10 [46000/60000 (77%)]\n",
      "train epoch 10 [48000/60000 (80%)]\n",
      "train epoch 10 [50000/60000 (83%)]\n",
      "train epoch 10 [52000/60000 (87%)]\n",
      "train epoch 10 [54000/60000 (90%)]\n",
      "train epoch 10 [56000/60000 (93%)]\n",
      "train epoch 10 [58000/60000 (97%)]\n",
      "\n",
      "test set: Average loss: 0.0149, accuracy: 9740/10000 (97.40%)\n"
     ]
    }
   ],
   "source": [
    "for epoch in range(1,11):\n",
    "    train(epoch)\n",
    "    test()"
   ]
  },
  {
   "cell_type": "code",
   "execution_count": null,
   "id": "0e59100b-3145-40b3-b296-1323fe45cd13",
   "metadata": {},
   "outputs": [],
   "source": []
  }
 ],
 "metadata": {
  "kernelspec": {
   "display_name": "torch",
   "language": "python",
   "name": "torch"
  },
  "language_info": {
   "codemirror_mode": {
    "name": "ipython",
    "version": 3
   },
   "file_extension": ".py",
   "mimetype": "text/x-python",
   "name": "python",
   "nbconvert_exporter": "python",
   "pygments_lexer": "ipython3",
   "version": "3.10.13"
  }
 },
 "nbformat": 4,
 "nbformat_minor": 5
}
